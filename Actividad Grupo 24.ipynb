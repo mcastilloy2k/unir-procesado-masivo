{
 "cells": [
  {
   "cell_type": "code",
   "execution_count": 52,
   "id": "4fcc76ac",
   "metadata": {},
   "outputs": [],
   "source": [
    "import findspark\n",
    "findspark.init()\n",
    "import pyspark\n",
    "findspark.find()\n",
    "from pyspark.sql.types import MapType,StringType,IntegerType,DateType\n",
    "from pyspark.sql.functions import col, to_timestamp"
   ]
  },
  {
   "cell_type": "code",
   "execution_count": 2,
   "id": "5ba222ba",
   "metadata": {},
   "outputs": [],
   "source": [
    "from pyspark import SparkContext, SparkConf\n",
    "from pyspark.sql import SparkSession\n",
    "conf = pyspark.SparkConf().setAppName('unir').setMaster('local')\n",
    "sc = pyspark.SparkContext(conf=conf)"
   ]
  },
  {
   "cell_type": "code",
   "execution_count": 3,
   "id": "ff476f4c",
   "metadata": {},
   "outputs": [
    {
     "name": "stderr",
     "output_type": "stream",
     "text": [
      "C:\\spark\\python\\pyspark\\sql\\context.py:601: FutureWarning: HiveContext is deprecated in Spark 2.0.0. Please use SparkSession.builder.enableHiveSupport().getOrCreate() instead.\n",
      "  warnings.warn(\n"
     ]
    },
    {
     "name": "stdout",
     "output_type": "stream",
     "text": [
      "+---------+---------+-----------+\n",
      "|namespace|tableName|isTemporary|\n",
      "+---------+---------+-----------+\n",
      "|  default|    sales|      false|\n",
      "+---------+---------+-----------+\n",
      "\n"
     ]
    }
   ],
   "source": [
    "from pyspark.sql import HiveContext\n",
    "sqlContext = HiveContext(sc)\n",
    "sqlContext.sql(\"use default\")\n",
    "sqlContext.sql(\"show tables\").show()"
   ]
  },
  {
   "cell_type": "code",
   "execution_count": 68,
   "id": "675cb2ed",
   "metadata": {
    "scrolled": true
   },
   "outputs": [
    {
     "name": "stdout",
     "output_type": "stream",
     "text": [
      "+---------+---------+-----------+\n",
      "|namespace|tableName|isTemporary|\n",
      "+---------+---------+-----------+\n",
      "|    stage|    sales|      false|\n",
      "|    stage|    store|      false|\n",
      "+---------+---------+-----------+\n",
      "\n",
      "+---------+---------+-----------+\n",
      "|namespace|tableName|isTemporary|\n",
      "+---------+---------+-----------+\n",
      "|  default|    sales|      false|\n",
      "|  default|    store|      false|\n",
      "+---------+---------+-----------+\n",
      "\n"
     ]
    }
   ],
   "source": [
    "sqlContext.sql(\"CREATE SCHEMA IF NOT EXISTS Stage;\")\n",
    "sqlContext.sql(\"DROP TABLE IF EXISTS Stage.Sales\")\n",
    "sqlSales = \"\"\"\n",
    "CREATE TABLE IF NOT EXISTS Stage.Sales\n",
    "(Store INT,Dept INT,Date String,Weekly_Sales DECIMAL(10,2),IsHoliday BOOLEAN)\n",
    "ROW FORMAT DELIMITED FIELDS TERMINATED BY ','\n",
    "TBLPROPERTIES ('skip.header.line.count'='1')\n",
    "\"\"\"\n",
    "sqlContext.sql(sqlSales)\n",
    "sqlContext.sql(\"DROP TABLE IF EXISTS Sales\")\n",
    "sqlSales = \"\"\"\n",
    "CREATE TABLE IF NOT EXISTS Sales\n",
    "(Store INT,Dept INT,Date TIMESTAMP,Weekly_Sales DECIMAL(10,2),IsHoliday BOOLEAN)\n",
    "STORED AS ORC\n",
    "\"\"\"\n",
    "sqlContext.sql(sqlSales)\n",
    "sqlContext.sql(\"use stage\")\n",
    "sqlContext.sql(\"show tables\").show()\n",
    "sqlContext.sql(\"use default\")\n",
    "sqlContext.sql(\"show tables\").show()"
   ]
  },
  {
   "cell_type": "code",
   "execution_count": 76,
   "id": "ab54e296",
   "metadata": {},
   "outputs": [
    {
     "name": "stdout",
     "output_type": "stream",
     "text": [
      "+---------+---------+-----------+\n",
      "|namespace|tableName|isTemporary|\n",
      "+---------+---------+-----------+\n",
      "|    stage|    sales|      false|\n",
      "|    stage|    store|      false|\n",
      "+---------+---------+-----------+\n",
      "\n",
      "+---------+---------+-----------+\n",
      "|namespace|tableName|isTemporary|\n",
      "+---------+---------+-----------+\n",
      "|  default|    sales|      false|\n",
      "|  default|    store|      false|\n",
      "+---------+---------+-----------+\n",
      "\n"
     ]
    }
   ],
   "source": [
    "sqlContext.sql(\"DROP TABLE IF EXISTS Stage.Store\")\n",
    "sqlSales = \"\"\"\n",
    "CREATE TABLE IF NOT EXISTS Stage.Store\n",
    "(Store Int,Type String, Size Int)\n",
    "ROW FORMAT DELIMITED FIELDS TERMINATED BY ','\n",
    "TBLPROPERTIES ('skip.header.line.count'='1')\n",
    "\"\"\"\n",
    "sqlContext.sql(sqlSales)\n",
    "sqlContext.sql(\"DROP TABLE IF EXISTS Store\")\n",
    "sqlSales = \"\"\"\n",
    "CREATE EXTERNAL TABLE IF NOT EXISTS Store\n",
    "(Store Int,Type String, Size Int)\n",
    "STORED AS ORC\n",
    "location '/analytics_equipo_24/external_store_data'\n",
    "\"\"\"\n",
    "sqlContext.sql(sqlSales)\n",
    "sqlContext.sql(\"use stage\")\n",
    "sqlContext.sql(\"show tables\").show()\n",
    "sqlContext.sql(\"use default\")\n",
    "sqlContext.sql(\"show tables\").show()"
   ]
  },
  {
   "cell_type": "code",
   "execution_count": 78,
   "id": "dd264373",
   "metadata": {},
   "outputs": [
    {
     "name": "stdout",
     "output_type": "stream",
     "text": [
      "+---------+---------+-----------+\n",
      "|namespace|tableName|isTemporary|\n",
      "+---------+---------+-----------+\n",
      "|    stage| features|      false|\n",
      "|    stage|    sales|      false|\n",
      "|    stage|    store|      false|\n",
      "+---------+---------+-----------+\n",
      "\n",
      "+---------+---------+-----------+\n",
      "|namespace|tableName|isTemporary|\n",
      "+---------+---------+-----------+\n",
      "|  default| features|      false|\n",
      "|  default|    sales|      false|\n",
      "|  default|    store|      false|\n",
      "+---------+---------+-----------+\n",
      "\n"
     ]
    }
   ],
   "source": [
    "sqlContext.sql(\"DROP TABLE IF EXISTS Stage.Features\")\n",
    "sqlSales = \"\"\"\n",
    "CREATE TABLE IF NOT EXISTS Stage.Features\n",
    "(Store int, Date string, Temperature decimal(10,2), Fuel_Price decimal(10,2),\n",
    "MarkDown1 decimal(10,2), MarkDown2 decimal(10,2), MarkDown3 decimal(10,2), MarkDown4 decimal(10,2), MarkDown5 decimal(10,2),\n",
    "CPI decimal(10,2), Unemployment decimal(10,2), IsHoliday boolean)\n",
    "ROW FORMAT DELIMITED FIELDS TERMINATED BY ','\n",
    "TBLPROPERTIES ('skip.header.line.count'='1')\n",
    "\"\"\"\n",
    "sqlContext.sql(sqlSales)\n",
    "sqlContext.sql(\"DROP TABLE IF EXISTS Features\")\n",
    "sqlSales = \"\"\"\n",
    "CREATE TABLE IF NOT EXISTS Features\n",
    "(Store int, Date string, Temperature decimal(10,2), Fuel_Price decimal(10,2),\n",
    "MarkDown1 decimal(10,2), MarkDown2 decimal(10,2), MarkDown3 decimal(10,2), MarkDown4 decimal(10,2), MarkDown5 decimal(10,2),\n",
    "CPI decimal(10,2), Unemployment decimal(10,2), IsHoliday boolean)\n",
    "STORED AS ORC\n",
    "\"\"\"\n",
    "sqlContext.sql(sqlSales)\n",
    "sqlContext.sql(\"use stage\")\n",
    "sqlContext.sql(\"show tables\").show()\n",
    "sqlContext.sql(\"use default\")\n",
    "sqlContext.sql(\"show tables\").show()"
   ]
  },
  {
   "cell_type": "code",
   "execution_count": 8,
   "id": "6c295c05",
   "metadata": {},
   "outputs": [
    {
     "data": {
      "text/plain": [
       "b''"
      ]
     },
     "execution_count": 8,
     "metadata": {},
     "output_type": "execute_result"
    }
   ],
   "source": [
    "import subprocess\n",
    "\n",
    "path = \"/analytics_equipo_24\"\n",
    "hdfs_path = \"c:\\\\winutils\\\\bin\\\\\"\n",
    "result = subprocess.run(f\"{hdfs_path}hdfs dfs -mkdir {path}\", shell=True, capture_output=True)\n",
    "result.stdout"
   ]
  },
  {
   "cell_type": "code",
   "execution_count": 70,
   "id": "a0628894",
   "metadata": {},
   "outputs": [
    {
     "data": {
      "text/plain": [
       "[b'Found 3 items',\n",
       " b'-rw-r--r--   1 mcast supergroup     600478 2022-02-19 19:26 /analytics_equipo_24/features.csv',\n",
       " b'-rw-r--r--   1 mcast supergroup   13264115 2022-02-19 20:33 /analytics_equipo_24/sales.csv',\n",
       " b'-rw-r--r--   1 mcast supergroup        577 2022-02-19 19:26 /analytics_equipo_24/stores.csv']"
      ]
     },
     "execution_count": 70,
     "metadata": {},
     "output_type": "execute_result"
    }
   ],
   "source": [
    "result = subprocess.run(f\"{hdfs_path}hdfs dfs -copyFromLocal c:\\\\repo\\\\unir\\\\*.csv {path}\", shell=True, capture_output=True)\n",
    "result = subprocess.run(f\"{hdfs_path}hdfs dfs -ls {path}\", shell=True, capture_output=True)\n",
    "result.stdout.splitlines()"
   ]
  },
  {
   "cell_type": "code",
   "execution_count": 71,
   "id": "43f53cb8",
   "metadata": {},
   "outputs": [
    {
     "name": "stdout",
     "output_type": "stream",
     "text": [
      "+-----+----+----------+------------+---------+\n",
      "|Store|Dept|      Date|Weekly_Sales|IsHoliday|\n",
      "+-----+----+----------+------------+---------+\n",
      "| null|null|      Date|        null|     null|\n",
      "|    1|   1|05/02/2010|    24924.50|    false|\n",
      "|    1|   1|12/02/2010|    46039.49|     true|\n",
      "|    1|   1|19/02/2010|    41595.55|    false|\n",
      "|    1|   1|26/02/2010|    19403.54|    false|\n",
      "|    1|   1|05/03/2010|    21827.90|    false|\n",
      "|    1|   1|12/03/2010|    21043.39|    false|\n",
      "|    1|   1|19/03/2010|    22136.64|    false|\n",
      "|    1|   1|26/03/2010|    26229.21|    false|\n",
      "|    1|   1|02/04/2010|    57258.43|    false|\n",
      "|    1|   1|09/04/2010|    42960.91|    false|\n",
      "|    1|   1|16/04/2010|    17596.96|    false|\n",
      "|    1|   1|23/04/2010|    16145.35|    false|\n",
      "|    1|   1|30/04/2010|    16555.11|    false|\n",
      "|    1|   1|07/05/2010|    17413.94|    false|\n",
      "|    1|   1|14/05/2010|    18926.74|    false|\n",
      "|    1|   1|21/05/2010|    14773.04|    false|\n",
      "|    1|   1|28/05/2010|    15580.43|    false|\n",
      "|    1|   1|04/06/2010|    17558.09|    false|\n",
      "|    1|   1|11/06/2010|    16637.62|    false|\n",
      "+-----+----+----------+------------+---------+\n",
      "only showing top 20 rows\n",
      "\n"
     ]
    }
   ],
   "source": [
    "#Insertar data de sales.csv a tabla de staging\n",
    "sqlContext.sql(f\"LOAD DATA INPATH 'hdfs://localhost:9000/{path}/sales.csv' INTO TABLE stage.sales;\")\n",
    "stage_sales = sqlContext.table(\"stage.sales\")\n",
    "stage_sales.show()"
   ]
  },
  {
   "cell_type": "code",
   "execution_count": 83,
   "id": "12c089e9",
   "metadata": {},
   "outputs": [
    {
     "name": "stdout",
     "output_type": "stream",
     "text": [
      "+-----+----+------+\n",
      "|Store|Type|  Size|\n",
      "+-----+----+------+\n",
      "| null|Type|  null|\n",
      "|    1|   A|151315|\n",
      "|    2|   A|202307|\n",
      "|    3|   B| 37392|\n",
      "|    4|   A|205863|\n",
      "|    5|   B| 34875|\n",
      "|    6|   A|202505|\n",
      "|    7|   B| 70713|\n",
      "|    8|   A|155078|\n",
      "|    9|   B|125833|\n",
      "|   10|   B|126512|\n",
      "|   11|   A|207499|\n",
      "|   12|   B|112238|\n",
      "|   13|   A|219622|\n",
      "|   14|   A|200898|\n",
      "|   15|   B|123737|\n",
      "|   16|   B| 57197|\n",
      "|   17|   B| 93188|\n",
      "|   18|   B|120653|\n",
      "|   19|   A|203819|\n",
      "+-----+----+------+\n",
      "only showing top 20 rows\n",
      "\n"
     ]
    }
   ],
   "source": [
    "#Inserta data de store.csv a tabla de staging\n",
    "sqlContext.sql(f\"LOAD DATA INPATH 'hdfs://localhost:9000/{path}/stores.csv' INTO TABLE stage.store;\")\n",
    "stage_store = sqlContext.table(\"stage.store\")\n",
    "stage_store.show()"
   ]
  },
  {
   "cell_type": "code",
   "execution_count": 84,
   "id": "ebd11c6e",
   "metadata": {},
   "outputs": [
    {
     "name": "stdout",
     "output_type": "stream",
     "text": [
      "+-----+----------+-----------+----------+---------+---------+---------+---------+---------+------+------------+---------+\n",
      "|Store|      Date|Temperature|Fuel_Price|MarkDown1|MarkDown2|MarkDown3|MarkDown4|MarkDown5|   CPI|Unemployment|IsHoliday|\n",
      "+-----+----------+-----------+----------+---------+---------+---------+---------+---------+------+------------+---------+\n",
      "| null|      Date|       null|      null|     null|     null|     null|     null|     null|  null|        null|     null|\n",
      "|    1|05/02/2010|      42.31|      2.57|     null|     null|     null|     null|     null|211.10|        8.11|    false|\n",
      "|    1|12/02/2010|      38.51|      2.55|     null|     null|     null|     null|     null|211.24|        8.11|     true|\n",
      "|    1|19/02/2010|      39.93|      2.51|     null|     null|     null|     null|     null|211.29|        8.11|    false|\n",
      "|    1|26/02/2010|      46.63|      2.56|     null|     null|     null|     null|     null|211.32|        8.11|    false|\n",
      "|    1|05/03/2010|      46.50|      2.63|     null|     null|     null|     null|     null|211.35|        8.11|    false|\n",
      "|    1|12/03/2010|      57.79|      2.67|     null|     null|     null|     null|     null|211.38|        8.11|    false|\n",
      "|    1|19/03/2010|      54.58|      2.72|     null|     null|     null|     null|     null|211.22|        8.11|    false|\n",
      "|    1|26/03/2010|      51.45|      2.73|     null|     null|     null|     null|     null|211.02|        8.11|    false|\n",
      "|    1|02/04/2010|      62.27|      2.72|     null|     null|     null|     null|     null|210.82|        7.81|    false|\n",
      "|    1|09/04/2010|      65.86|      2.77|     null|     null|     null|     null|     null|210.62|        7.81|    false|\n",
      "|    1|16/04/2010|      66.32|      2.81|     null|     null|     null|     null|     null|210.49|        7.81|    false|\n",
      "|    1|23/04/2010|      64.84|      2.80|     null|     null|     null|     null|     null|210.44|        7.81|    false|\n",
      "|    1|30/04/2010|      67.41|      2.78|     null|     null|     null|     null|     null|210.39|        7.81|    false|\n",
      "|    1|07/05/2010|      72.55|      2.84|     null|     null|     null|     null|     null|210.34|        7.81|    false|\n",
      "|    1|14/05/2010|      74.78|      2.85|     null|     null|     null|     null|     null|210.34|        7.81|    false|\n",
      "|    1|21/05/2010|      76.44|      2.83|     null|     null|     null|     null|     null|210.62|        7.81|    false|\n",
      "|    1|28/05/2010|      80.44|      2.76|     null|     null|     null|     null|     null|210.90|        7.81|    false|\n",
      "|    1|04/06/2010|      80.69|      2.71|     null|     null|     null|     null|     null|211.18|        7.81|    false|\n",
      "|    1|11/06/2010|      80.43|      2.67|     null|     null|     null|     null|     null|211.46|        7.81|    false|\n",
      "+-----+----------+-----------+----------+---------+---------+---------+---------+---------+------+------------+---------+\n",
      "only showing top 20 rows\n",
      "\n"
     ]
    }
   ],
   "source": [
    "#Inserta data de features.csv a tabla de stagin\n",
    "sqlContext.sql(f\"LOAD DATA INPATH 'hdfs://localhost:9000/{path}/features.csv' INTO TABLE stage.features;\")\n",
    "stage_features = sqlContext.table(\"stage.features\")\n",
    "stage_features.show()"
   ]
  },
  {
   "cell_type": "code",
   "execution_count": 72,
   "id": "35444818",
   "metadata": {},
   "outputs": [
    {
     "name": "stdout",
     "output_type": "stream",
     "text": [
      "+-----+----+-------------------+------------+---------+\n",
      "|Store|Dept|               Date|Weekly_Sales|IsHoliday|\n",
      "+-----+----+-------------------+------------+---------+\n",
      "|    1|   1|2010-02-05 00:00:00|    24924.50|    false|\n",
      "|    1|   1|2010-02-12 00:00:00|    46039.49|     true|\n",
      "|    1|   1|2010-02-19 00:00:00|    41595.55|    false|\n",
      "|    1|   1|2010-02-26 00:00:00|    19403.54|    false|\n",
      "|    1|   1|2010-03-05 00:00:00|    21827.90|    false|\n",
      "|    1|   1|2010-03-12 00:00:00|    21043.39|    false|\n",
      "|    1|   1|2010-03-19 00:00:00|    22136.64|    false|\n",
      "|    1|   1|2010-03-26 00:00:00|    26229.21|    false|\n",
      "|    1|   1|2010-04-02 00:00:00|    57258.43|    false|\n",
      "|    1|   1|2010-04-09 00:00:00|    42960.91|    false|\n",
      "|    1|   1|2010-04-16 00:00:00|    17596.96|    false|\n",
      "|    1|   1|2010-04-23 00:00:00|    16145.35|    false|\n",
      "|    1|   1|2010-04-30 00:00:00|    16555.11|    false|\n",
      "|    1|   1|2010-05-07 00:00:00|    17413.94|    false|\n",
      "|    1|   1|2010-05-14 00:00:00|    18926.74|    false|\n",
      "|    1|   1|2010-05-21 00:00:00|    14773.04|    false|\n",
      "|    1|   1|2010-05-28 00:00:00|    15580.43|    false|\n",
      "|    1|   1|2010-06-04 00:00:00|    17558.09|    false|\n",
      "|    1|   1|2010-06-11 00:00:00|    16637.62|    false|\n",
      "|    1|   1|2010-06-18 00:00:00|    16216.27|    false|\n",
      "+-----+----+-------------------+------------+---------+\n",
      "only showing top 20 rows\n",
      "\n",
      "root\n",
      " |-- Store: integer (nullable = true)\n",
      " |-- Dept: integer (nullable = true)\n",
      " |-- Date: timestamp (nullable = true)\n",
      " |-- Weekly_Sales: decimal(10,2) (nullable = true)\n",
      " |-- IsHoliday: boolean (nullable = true)\n",
      "\n"
     ]
    }
   ],
   "source": [
    "stage_sales = sqlContext.table(\"stage.sales\")\n",
    "#Quitar headers, bug conocido de Hive con PySpark\n",
    "stage_sales = sqlContext.createDataFrame(stage_sales.tail(stage_sales.count()-1), stage_sales.schema)\n",
    "#Convertir campo Date de String type a Date type\n",
    "stage_sales = stage_sales.withColumn(\"Date\", to_timestamp('Date', 'dd/MM/yyyy'))\n",
    "stage_sales.show()\n",
    "stage_sales.printSchema()"
   ]
  },
  {
   "cell_type": "code",
   "execution_count": 91,
   "id": "63498b09",
   "metadata": {},
   "outputs": [
    {
     "name": "stdout",
     "output_type": "stream",
     "text": [
      "+-----+----+-------------------+------------+---------+\n",
      "|Store|Dept|               Date|Weekly_Sales|IsHoliday|\n",
      "+-----+----+-------------------+------------+---------+\n",
      "|    1|   1|2010-02-05 00:00:00|    24924.50|    false|\n",
      "|    1|   1|2010-02-12 00:00:00|    46039.49|     true|\n",
      "|    1|   1|2010-02-19 00:00:00|    41595.55|    false|\n",
      "|    1|   1|2010-02-26 00:00:00|    19403.54|    false|\n",
      "|    1|   1|2010-03-05 00:00:00|    21827.90|    false|\n",
      "|    1|   1|2010-03-12 00:00:00|    21043.39|    false|\n",
      "|    1|   1|2010-03-19 00:00:00|    22136.64|    false|\n",
      "|    1|   1|2010-03-26 00:00:00|    26229.21|    false|\n",
      "|    1|   1|2010-04-02 00:00:00|    57258.43|    false|\n",
      "|    1|   1|2010-04-09 00:00:00|    42960.91|    false|\n",
      "|    1|   1|2010-04-16 00:00:00|    17596.96|    false|\n",
      "|    1|   1|2010-04-23 00:00:00|    16145.35|    false|\n",
      "|    1|   1|2010-04-30 00:00:00|    16555.11|    false|\n",
      "|    1|   1|2010-05-07 00:00:00|    17413.94|    false|\n",
      "|    1|   1|2010-05-14 00:00:00|    18926.74|    false|\n",
      "|    1|   1|2010-05-21 00:00:00|    14773.04|    false|\n",
      "|    1|   1|2010-05-28 00:00:00|    15580.43|    false|\n",
      "|    1|   1|2010-06-04 00:00:00|    17558.09|    false|\n",
      "|    1|   1|2010-06-11 00:00:00|    16637.62|    false|\n",
      "|    1|   1|2010-06-18 00:00:00|    16216.27|    false|\n",
      "+-----+----+-------------------+------------+---------+\n",
      "only showing top 20 rows\n",
      "\n"
     ]
    }
   ],
   "source": [
    "#Insertar datos limpios a tabla final para \"sales\"\n",
    "stage_sales.write.format(\"hive\").mode(\"overwrite\").saveAsTable(\"default.sales\")\n",
    "sales = sqlContext.table(\"sales\")\n",
    "sales.show()"
   ]
  },
  {
   "cell_type": "code",
   "execution_count": 86,
   "id": "bb196504",
   "metadata": {
    "scrolled": true
   },
   "outputs": [
    {
     "name": "stdout",
     "output_type": "stream",
     "text": [
      "+-----+----+------+\n",
      "|Store|Type|  Size|\n",
      "+-----+----+------+\n",
      "|    1|   A|151315|\n",
      "|    2|   A|202307|\n",
      "|    3|   B| 37392|\n",
      "|    4|   A|205863|\n",
      "|    5|   B| 34875|\n",
      "|    6|   A|202505|\n",
      "|    7|   B| 70713|\n",
      "|    8|   A|155078|\n",
      "|    9|   B|125833|\n",
      "|   10|   B|126512|\n",
      "|   11|   A|207499|\n",
      "|   12|   B|112238|\n",
      "|   13|   A|219622|\n",
      "|   14|   A|200898|\n",
      "|   15|   B|123737|\n",
      "|   16|   B| 57197|\n",
      "|   17|   B| 93188|\n",
      "|   18|   B|120653|\n",
      "|   19|   A|203819|\n",
      "|   20|   A|203742|\n",
      "+-----+----+------+\n",
      "only showing top 20 rows\n",
      "\n",
      "root\n",
      " |-- Store: integer (nullable = true)\n",
      " |-- Type: string (nullable = true)\n",
      " |-- Size: integer (nullable = true)\n",
      "\n"
     ]
    }
   ],
   "source": [
    "stage_store = sqlContext.table(\"stage.store\")\n",
    "#Quitar headers, bug conocido de Hive con PySpark\n",
    "stage_store = sqlContext.createDataFrame(stage_store.tail(stage_store.count()-1), stage_store.schema)\n",
    "stage_store.show()\n",
    "stage_store.printSchema()"
   ]
  },
  {
   "cell_type": "code",
   "execution_count": 88,
   "id": "401538c0",
   "metadata": {},
   "outputs": [
    {
     "name": "stdout",
     "output_type": "stream",
     "text": [
      "+-----+----+------+\n",
      "|Store|Type|  Size|\n",
      "+-----+----+------+\n",
      "|    1|   A|151315|\n",
      "|    2|   A|202307|\n",
      "|    3|   B| 37392|\n",
      "|    4|   A|205863|\n",
      "|    5|   B| 34875|\n",
      "|    6|   A|202505|\n",
      "|    7|   B| 70713|\n",
      "|    8|   A|155078|\n",
      "|    9|   B|125833|\n",
      "|   10|   B|126512|\n",
      "|   11|   A|207499|\n",
      "|   12|   B|112238|\n",
      "|   13|   A|219622|\n",
      "|   14|   A|200898|\n",
      "|   15|   B|123737|\n",
      "|   16|   B| 57197|\n",
      "|   17|   B| 93188|\n",
      "|   18|   B|120653|\n",
      "|   19|   A|203819|\n",
      "|   20|   A|203742|\n",
      "+-----+----+------+\n",
      "only showing top 20 rows\n",
      "\n"
     ]
    }
   ],
   "source": [
    "#Insertar datos limpios a tabla final para \"store\"\n",
    "stage_store.write.format(\"hive\").mode(\"overwrite\").saveAsTable(\"default.store\")\n",
    "store = sqlContext.table(\"store\")\n",
    "store.show()"
   ]
  },
  {
   "cell_type": "code",
   "execution_count": 92,
   "id": "a9e7fefc",
   "metadata": {},
   "outputs": [
    {
     "name": "stdout",
     "output_type": "stream",
     "text": [
      "+-----+-------------------+-----------+----------+---------+---------+---------+---------+---------+------+------------+---------+\n",
      "|Store|               Date|Temperature|Fuel_Price|MarkDown1|MarkDown2|MarkDown3|MarkDown4|MarkDown5|   CPI|Unemployment|IsHoliday|\n",
      "+-----+-------------------+-----------+----------+---------+---------+---------+---------+---------+------+------------+---------+\n",
      "|    1|2010-02-05 00:00:00|      42.31|      2.57|     null|     null|     null|     null|     null|211.10|        8.11|    false|\n",
      "|    1|2010-02-12 00:00:00|      38.51|      2.55|     null|     null|     null|     null|     null|211.24|        8.11|     true|\n",
      "|    1|2010-02-19 00:00:00|      39.93|      2.51|     null|     null|     null|     null|     null|211.29|        8.11|    false|\n",
      "|    1|2010-02-26 00:00:00|      46.63|      2.56|     null|     null|     null|     null|     null|211.32|        8.11|    false|\n",
      "|    1|2010-03-05 00:00:00|      46.50|      2.63|     null|     null|     null|     null|     null|211.35|        8.11|    false|\n",
      "|    1|2010-03-12 00:00:00|      57.79|      2.67|     null|     null|     null|     null|     null|211.38|        8.11|    false|\n",
      "|    1|2010-03-19 00:00:00|      54.58|      2.72|     null|     null|     null|     null|     null|211.22|        8.11|    false|\n",
      "|    1|2010-03-26 00:00:00|      51.45|      2.73|     null|     null|     null|     null|     null|211.02|        8.11|    false|\n",
      "|    1|2010-04-02 00:00:00|      62.27|      2.72|     null|     null|     null|     null|     null|210.82|        7.81|    false|\n",
      "|    1|2010-04-09 00:00:00|      65.86|      2.77|     null|     null|     null|     null|     null|210.62|        7.81|    false|\n",
      "|    1|2010-04-16 00:00:00|      66.32|      2.81|     null|     null|     null|     null|     null|210.49|        7.81|    false|\n",
      "|    1|2010-04-23 00:00:00|      64.84|      2.80|     null|     null|     null|     null|     null|210.44|        7.81|    false|\n",
      "|    1|2010-04-30 00:00:00|      67.41|      2.78|     null|     null|     null|     null|     null|210.39|        7.81|    false|\n",
      "|    1|2010-05-07 00:00:00|      72.55|      2.84|     null|     null|     null|     null|     null|210.34|        7.81|    false|\n",
      "|    1|2010-05-14 00:00:00|      74.78|      2.85|     null|     null|     null|     null|     null|210.34|        7.81|    false|\n",
      "|    1|2010-05-21 00:00:00|      76.44|      2.83|     null|     null|     null|     null|     null|210.62|        7.81|    false|\n",
      "|    1|2010-05-28 00:00:00|      80.44|      2.76|     null|     null|     null|     null|     null|210.90|        7.81|    false|\n",
      "|    1|2010-06-04 00:00:00|      80.69|      2.71|     null|     null|     null|     null|     null|211.18|        7.81|    false|\n",
      "|    1|2010-06-11 00:00:00|      80.43|      2.67|     null|     null|     null|     null|     null|211.46|        7.81|    false|\n",
      "|    1|2010-06-18 00:00:00|      84.11|      2.64|     null|     null|     null|     null|     null|211.45|        7.81|    false|\n",
      "+-----+-------------------+-----------+----------+---------+---------+---------+---------+---------+------+------------+---------+\n",
      "only showing top 20 rows\n",
      "\n",
      "root\n",
      " |-- Store: integer (nullable = true)\n",
      " |-- Date: timestamp (nullable = true)\n",
      " |-- Temperature: decimal(10,2) (nullable = true)\n",
      " |-- Fuel_Price: decimal(10,2) (nullable = true)\n",
      " |-- MarkDown1: decimal(10,2) (nullable = true)\n",
      " |-- MarkDown2: decimal(10,2) (nullable = true)\n",
      " |-- MarkDown3: decimal(10,2) (nullable = true)\n",
      " |-- MarkDown4: decimal(10,2) (nullable = true)\n",
      " |-- MarkDown5: decimal(10,2) (nullable = true)\n",
      " |-- CPI: decimal(10,2) (nullable = true)\n",
      " |-- Unemployment: decimal(10,2) (nullable = true)\n",
      " |-- IsHoliday: boolean (nullable = true)\n",
      "\n"
     ]
    }
   ],
   "source": [
    "stage_features = sqlContext.table(\"stage.features\")\n",
    "#Quitar headers, bug conocido de Hive con PySpark\n",
    "stage_features = sqlContext.createDataFrame(stage_features.tail(stage_features.count()-1), stage_features.schema)\n",
    "#Convertir campo Date de String type a Date type\n",
    "stage_features = stage_features.withColumn(\"Date\", to_timestamp('Date', 'dd/MM/yyyy'))\n",
    "stage_features.show()\n",
    "stage_features.printSchema()"
   ]
  },
  {
   "cell_type": "code",
   "execution_count": 95,
   "id": "e8d7e89b",
   "metadata": {},
   "outputs": [
    {
     "name": "stdout",
     "output_type": "stream",
     "text": [
      "+-----+-------------------+-----------+----------+---------+---------+---------+---------+---------+------+------------+---------+\n",
      "|Store|               Date|Temperature|Fuel_Price|MarkDown1|MarkDown2|MarkDown3|MarkDown4|MarkDown5|   CPI|Unemployment|IsHoliday|\n",
      "+-----+-------------------+-----------+----------+---------+---------+---------+---------+---------+------+------------+---------+\n",
      "|    1|2010-02-05 00:00:00|      42.31|      2.57|     null|     null|     null|     null|     null|211.10|        8.11|    false|\n",
      "|    1|2010-02-12 00:00:00|      38.51|      2.55|     null|     null|     null|     null|     null|211.24|        8.11|     true|\n",
      "|    1|2010-02-19 00:00:00|      39.93|      2.51|     null|     null|     null|     null|     null|211.29|        8.11|    false|\n",
      "|    1|2010-02-26 00:00:00|      46.63|      2.56|     null|     null|     null|     null|     null|211.32|        8.11|    false|\n",
      "|    1|2010-03-05 00:00:00|      46.50|      2.63|     null|     null|     null|     null|     null|211.35|        8.11|    false|\n",
      "|    1|2010-03-12 00:00:00|      57.79|      2.67|     null|     null|     null|     null|     null|211.38|        8.11|    false|\n",
      "|    1|2010-03-19 00:00:00|      54.58|      2.72|     null|     null|     null|     null|     null|211.22|        8.11|    false|\n",
      "|    1|2010-03-26 00:00:00|      51.45|      2.73|     null|     null|     null|     null|     null|211.02|        8.11|    false|\n",
      "|    1|2010-04-02 00:00:00|      62.27|      2.72|     null|     null|     null|     null|     null|210.82|        7.81|    false|\n",
      "|    1|2010-04-09 00:00:00|      65.86|      2.77|     null|     null|     null|     null|     null|210.62|        7.81|    false|\n",
      "|    1|2010-04-16 00:00:00|      66.32|      2.81|     null|     null|     null|     null|     null|210.49|        7.81|    false|\n",
      "|    1|2010-04-23 00:00:00|      64.84|      2.80|     null|     null|     null|     null|     null|210.44|        7.81|    false|\n",
      "|    1|2010-04-30 00:00:00|      67.41|      2.78|     null|     null|     null|     null|     null|210.39|        7.81|    false|\n",
      "|    1|2010-05-07 00:00:00|      72.55|      2.84|     null|     null|     null|     null|     null|210.34|        7.81|    false|\n",
      "|    1|2010-05-14 00:00:00|      74.78|      2.85|     null|     null|     null|     null|     null|210.34|        7.81|    false|\n",
      "|    1|2010-05-21 00:00:00|      76.44|      2.83|     null|     null|     null|     null|     null|210.62|        7.81|    false|\n",
      "|    1|2010-05-28 00:00:00|      80.44|      2.76|     null|     null|     null|     null|     null|210.90|        7.81|    false|\n",
      "|    1|2010-06-04 00:00:00|      80.69|      2.71|     null|     null|     null|     null|     null|211.18|        7.81|    false|\n",
      "|    1|2010-06-11 00:00:00|      80.43|      2.67|     null|     null|     null|     null|     null|211.46|        7.81|    false|\n",
      "|    1|2010-06-18 00:00:00|      84.11|      2.64|     null|     null|     null|     null|     null|211.45|        7.81|    false|\n",
      "+-----+-------------------+-----------+----------+---------+---------+---------+---------+---------+------+------------+---------+\n",
      "only showing top 20 rows\n",
      "\n"
     ]
    }
   ],
   "source": [
    "#Insertar datos limpios a tabla final para \"features\"\n",
    "stage_features.write.format(\"hive\").mode(\"overwrite\").saveAsTable(\"default.features\")\n",
    "features = sqlContext.table(\"features\")\n",
    "features.show()"
   ]
  },
  {
   "cell_type": "code",
   "execution_count": 105,
   "id": "6c50c7e1",
   "metadata": {},
   "outputs": [
    {
     "name": "stdout",
     "output_type": "stream",
     "text": [
      "+--------------------+\n",
      "|ConteoRegistrosSales|\n",
      "+--------------------+\n",
      "|              421570|\n",
      "+--------------------+\n",
      "\n",
      "+--------------------+\n",
      "|ConteoRegistrosStore|\n",
      "+--------------------+\n",
      "|                  45|\n",
      "+--------------------+\n",
      "\n",
      "+-----------------------+\n",
      "|ConteoRegistrosFeatures|\n",
      "+-----------------------+\n",
      "|                   8190|\n",
      "+-----------------------+\n",
      "\n"
     ]
    }
   ],
   "source": [
    "sqlContext.sql(\"SELECT COUNT(1) AS ConteoRegistrosSales FROM sales\").show()\n",
    "sqlContext.sql(\"SELECT COUNT(1) AS ConteoRegistrosStore FROM store\").show()\n",
    "sqlContext.sql(\"SELECT COUNT(1) AS ConteoRegistrosFeatures FROM features\").show()"
   ]
  }
 ],
 "metadata": {
  "kernelspec": {
   "display_name": "Python 3",
   "language": "python",
   "name": "python3"
  },
  "language_info": {
   "codemirror_mode": {
    "name": "ipython",
    "version": 3
   },
   "file_extension": ".py",
   "mimetype": "text/x-python",
   "name": "python",
   "nbconvert_exporter": "python",
   "pygments_lexer": "ipython3",
   "version": "3.8.8"
  }
 },
 "nbformat": 4,
 "nbformat_minor": 5
}
